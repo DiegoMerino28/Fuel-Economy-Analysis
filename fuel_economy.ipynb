{
 "cells": [
  {
   "cell_type": "code",
   "execution_count": 60,
   "metadata": {},
   "outputs": [],
   "source": [
    "# Packages importation\n",
    "import pandas as pd\n",
    "import numpy as np \n",
    "import matplotlib.pyplot as plt\n",
    "import seaborn as sns\n",
    "%matplotlib inline\n",
    "\n",
    "# Data load\n",
    "\n",
    "df_2008 = pd.read_csv('all_alpha_08.csv')\n",
    "df_2018 = pd.read_csv('all_alpha_18.csv')\n"
   ]
  },
  {
   "cell_type": "markdown",
   "metadata": {},
   "source": [
    "### Initial Analysis"
   ]
  },
  {
   "cell_type": "markdown",
   "metadata": {},
   "source": [
    "#### 2008 Dataset"
   ]
  },
  {
   "cell_type": "code",
   "execution_count": 61,
   "metadata": {},
   "outputs": [
    {
     "name": "stdout",
     "output_type": "stream",
     "text": [
      "The number of rows and columns is: (2404, 18).\n",
      "There are 25 duplicated rows in the dataset.\n",
      "There are 199 rows with missing info in this dataset\n",
      "\n",
      "The datatypes for the 2008 dataset are: \n",
      " Model                    object\n",
      "Displ                   float64\n",
      "Cyl                      object\n",
      "Trans                    object\n",
      "Drive                    object\n",
      "Fuel                     object\n",
      "Sales Area               object\n",
      "Stnd                     object\n",
      "Underhood ID             object\n",
      "Veh Class                object\n",
      "Air Pollution Score      object\n",
      "FE Calc Appr             object\n",
      "City MPG                 object\n",
      "Hwy MPG                  object\n",
      "Cmb MPG                  object\n",
      "Unadj Cmb MPG           float64\n",
      "Greenhouse Gas Score     object\n",
      "SmartWay                 object\n",
      "dtype: object\n",
      "\n",
      "The unique non-null values for the SmartWay field are: \n",
      "no     1766\n",
      "yes     638\n",
      "Name: SmartWay, dtype: int64\n",
      "\n",
      "The unique non-null values for the Sales Area field are: \n",
      "FA    1157\n",
      "CA    1084\n",
      "FC     163\n",
      "Name: Sales Area, dtype: int64\n",
      "\n",
      "The unique non-null values for the Transmision Area field are: \n",
      "Auto-L4    502\n",
      "Auto-L5    329\n",
      "Auto-S6    327\n",
      "Man-6      295\n",
      "Man-5      269\n",
      "Auto-S5    147\n",
      "Auto-L6    118\n",
      "Auto-AV     86\n",
      "Auto-S4     42\n",
      "Auto-L7     42\n",
      "Auto-S7     22\n",
      "Auto-4      10\n",
      "Auto-6       8\n",
      "S8           8\n",
      "Name: Trans, dtype: int64\n"
     ]
    }
   ],
   "source": [
    "# Count of samples and columns\n",
    "print('The number of rows and columns is: {}.'.format(df_2008.shape))\n",
    "\n",
    "# Number of duplicated rows\n",
    "print('There are {} duplicated rows in the dataset.'.format(df_2008.duplicated().sum()))\n",
    "\n",
    "# Number of rows with missing values\n",
    "print('There are {} rows with missing info in this dataset'.format(df_2008.isna().any(axis = 1).sum()))\n",
    "\n",
    "# Datatypes \n",
    "print('\\nThe datatypes for the 2008 dataset are: \\n {}'.format(df_2008.dtypes))\n",
    "\n",
    "# Unique values\n",
    "print('\\nThe unique non-null values for the SmartWay field are: \\n{}'.format(df_2008['SmartWay'].value_counts()))\n",
    "print('\\nThe unique non-null values for the Sales Area field are: \\n{}'.format(df_2008['Sales Area'].value_counts()))\n",
    "print('\\nThe unique non-null values for the Transmision Area field are: \\n{}'.format(df_2008['Trans'].value_counts()))"
   ]
  },
  {
   "cell_type": "markdown",
   "metadata": {},
   "source": [
    "#### 2018 Dataset"
   ]
  },
  {
   "cell_type": "code",
   "execution_count": 62,
   "metadata": {},
   "outputs": [
    {
     "name": "stdout",
     "output_type": "stream",
     "text": [
      "The number of rows and columns is: (1611, 18).\n",
      "There are 0 duplicated rows in the dataset.\n",
      "There are 2 rows with missing info in this dataset\n",
      "The datatypes for the 2018 dataset are: \n",
      " Model                    object\n",
      "Displ                   float64\n",
      "Cyl                     float64\n",
      "Trans                    object\n",
      "Drive                    object\n",
      "Fuel                     object\n",
      "Cert Region              object\n",
      "Stnd                     object\n",
      "Stnd Description         object\n",
      "Underhood ID             object\n",
      "Veh Class                object\n",
      "Air Pollution Score       int64\n",
      "City MPG                 object\n",
      "Hwy MPG                  object\n",
      "Cmb MPG                  object\n",
      "Greenhouse Gas Score      int64\n",
      "SmartWay                 object\n",
      "Comb CO2                 object\n",
      "dtype: object\n",
      "\n",
      "The unique non-null values for the SmartWay field are: \n",
      "No       1414\n",
      "Yes       175\n",
      "Elite      22\n",
      "Name: SmartWay, dtype: int64\n",
      "\n",
      "The unique non-null values for the Cert Region field are: \n",
      "FA    813\n",
      "CA    798\n",
      "Name: Cert Region, dtype: int64\n"
     ]
    }
   ],
   "source": [
    "# Count of samples and columns\n",
    "print('The number of rows and columns is: {}.'.format(df_2018.shape))\n",
    "\n",
    "# Number of duplicated rows\n",
    "print('There are {} duplicated rows in the dataset.'.format(df_2018.duplicated().sum()))\n",
    "\n",
    "# Number of rows with missing values\n",
    "print('There are {} rows with missing info in this dataset'.format(df_2018.isna().any(axis = 1).sum()))\n",
    "\n",
    "#Datatypes\n",
    "print('The datatypes for the 2018 dataset are: \\n {}'.format(df_2018.dtypes))\n",
    "\n",
    "# Unique values\n",
    "print('\\nThe unique non-null values for the SmartWay field are: \\n{}'.format(df_2018['SmartWay'].value_counts()))\n",
    "\n",
    "print('\\nThe unique non-null values for the Cert Region field are: \\n{}'.format(df_2018['Cert Region'].value_counts()))\n"
   ]
  },
  {
   "cell_type": "markdown",
   "metadata": {},
   "source": [
    "#### Fuel Types (2008 Vs. 2018)"
   ]
  },
  {
   "cell_type": "code",
   "execution_count": 63,
   "metadata": {},
   "outputs": [
    {
     "name": "stdout",
     "output_type": "stream",
     "text": [
      "Gasoline       2318\n",
      "ethanol/gas      72\n",
      "diesel           11\n",
      "CNG               2\n",
      "ethanol           1\n",
      "Name: Fuel, dtype: int64\n",
      "Gasoline                1492\n",
      "Ethanol/Gas               55\n",
      "Diesel                    38\n",
      "Gasoline/Electricity      24\n",
      "Electricity                2\n",
      "Name: Fuel, dtype: int64\n"
     ]
    }
   ],
   "source": [
    "print(df_2008['Fuel'].value_counts())\n",
    "\n",
    "print(df_2018['Fuel'].value_counts())"
   ]
  },
  {
   "cell_type": "markdown",
   "metadata": {},
   "source": [
    "#### Columns Cleaning"
   ]
  },
  {
   "cell_type": "code",
   "execution_count": 64,
   "metadata": {},
   "outputs": [],
   "source": [
    "# 2008 drop \n",
    "df_2008.drop(['Stnd', 'Underhood ID', 'FE Calc Appr', 'Unadj Cmb MPG'], axis = 1, inplace = True)\n",
    "\n",
    "# 2018 drop\n",
    "df_2018.drop(['Stnd', 'Stnd Description', 'Underhood ID', 'Comb CO2'], axis = 1, inplace = True)"
   ]
  },
  {
   "cell_type": "code",
   "execution_count": 65,
   "metadata": {},
   "outputs": [
    {
     "data": {
      "text/html": [
       "<div>\n",
       "<style scoped>\n",
       "    .dataframe tbody tr th:only-of-type {\n",
       "        vertical-align: middle;\n",
       "    }\n",
       "\n",
       "    .dataframe tbody tr th {\n",
       "        vertical-align: top;\n",
       "    }\n",
       "\n",
       "    .dataframe thead th {\n",
       "        text-align: right;\n",
       "    }\n",
       "</style>\n",
       "<table border=\"1\" class=\"dataframe\">\n",
       "  <thead>\n",
       "    <tr style=\"text-align: right;\">\n",
       "      <th></th>\n",
       "      <th>Model</th>\n",
       "      <th>Displ</th>\n",
       "      <th>Cyl</th>\n",
       "      <th>Trans</th>\n",
       "      <th>Drive</th>\n",
       "      <th>Fuel</th>\n",
       "      <th>Sales Area</th>\n",
       "      <th>Veh Class</th>\n",
       "      <th>Air Pollution Score</th>\n",
       "      <th>City MPG</th>\n",
       "      <th>Hwy MPG</th>\n",
       "      <th>Cmb MPG</th>\n",
       "      <th>Greenhouse Gas Score</th>\n",
       "      <th>SmartWay</th>\n",
       "    </tr>\n",
       "  </thead>\n",
       "  <tbody>\n",
       "    <tr>\n",
       "      <th>0</th>\n",
       "      <td>ACURA MDX</td>\n",
       "      <td>3.7</td>\n",
       "      <td>(6 cyl)</td>\n",
       "      <td>Auto-S5</td>\n",
       "      <td>4WD</td>\n",
       "      <td>Gasoline</td>\n",
       "      <td>CA</td>\n",
       "      <td>SUV</td>\n",
       "      <td>7</td>\n",
       "      <td>15</td>\n",
       "      <td>20</td>\n",
       "      <td>17</td>\n",
       "      <td>4</td>\n",
       "      <td>no</td>\n",
       "    </tr>\n",
       "    <tr>\n",
       "      <th>1</th>\n",
       "      <td>ACURA MDX</td>\n",
       "      <td>3.7</td>\n",
       "      <td>(6 cyl)</td>\n",
       "      <td>Auto-S5</td>\n",
       "      <td>4WD</td>\n",
       "      <td>Gasoline</td>\n",
       "      <td>FA</td>\n",
       "      <td>SUV</td>\n",
       "      <td>6</td>\n",
       "      <td>15</td>\n",
       "      <td>20</td>\n",
       "      <td>17</td>\n",
       "      <td>4</td>\n",
       "      <td>no</td>\n",
       "    </tr>\n",
       "    <tr>\n",
       "      <th>2</th>\n",
       "      <td>ACURA RDX</td>\n",
       "      <td>2.3</td>\n",
       "      <td>(4 cyl)</td>\n",
       "      <td>Auto-S5</td>\n",
       "      <td>4WD</td>\n",
       "      <td>Gasoline</td>\n",
       "      <td>CA</td>\n",
       "      <td>SUV</td>\n",
       "      <td>7</td>\n",
       "      <td>17</td>\n",
       "      <td>22</td>\n",
       "      <td>19</td>\n",
       "      <td>5</td>\n",
       "      <td>no</td>\n",
       "    </tr>\n",
       "    <tr>\n",
       "      <th>3</th>\n",
       "      <td>ACURA RDX</td>\n",
       "      <td>2.3</td>\n",
       "      <td>(4 cyl)</td>\n",
       "      <td>Auto-S5</td>\n",
       "      <td>4WD</td>\n",
       "      <td>Gasoline</td>\n",
       "      <td>FA</td>\n",
       "      <td>SUV</td>\n",
       "      <td>6</td>\n",
       "      <td>17</td>\n",
       "      <td>22</td>\n",
       "      <td>19</td>\n",
       "      <td>5</td>\n",
       "      <td>no</td>\n",
       "    </tr>\n",
       "    <tr>\n",
       "      <th>4</th>\n",
       "      <td>ACURA RL</td>\n",
       "      <td>3.5</td>\n",
       "      <td>(6 cyl)</td>\n",
       "      <td>Auto-S5</td>\n",
       "      <td>4WD</td>\n",
       "      <td>Gasoline</td>\n",
       "      <td>CA</td>\n",
       "      <td>midsize car</td>\n",
       "      <td>7</td>\n",
       "      <td>16</td>\n",
       "      <td>24</td>\n",
       "      <td>19</td>\n",
       "      <td>5</td>\n",
       "      <td>no</td>\n",
       "    </tr>\n",
       "  </tbody>\n",
       "</table>\n",
       "</div>"
      ],
      "text/plain": [
       "       Model  Displ      Cyl    Trans Drive      Fuel Sales Area    Veh Class  \\\n",
       "0  ACURA MDX    3.7  (6 cyl)  Auto-S5   4WD  Gasoline         CA          SUV   \n",
       "1  ACURA MDX    3.7  (6 cyl)  Auto-S5   4WD  Gasoline         FA          SUV   \n",
       "2  ACURA RDX    2.3  (4 cyl)  Auto-S5   4WD  Gasoline         CA          SUV   \n",
       "3  ACURA RDX    2.3  (4 cyl)  Auto-S5   4WD  Gasoline         FA          SUV   \n",
       "4   ACURA RL    3.5  (6 cyl)  Auto-S5   4WD  Gasoline         CA  midsize car   \n",
       "\n",
       "  Air Pollution Score City MPG Hwy MPG Cmb MPG Greenhouse Gas Score SmartWay  \n",
       "0                   7       15      20      17                    4       no  \n",
       "1                   6       15      20      17                    4       no  \n",
       "2                   7       17      22      19                    5       no  \n",
       "3                   6       17      22      19                    5       no  \n",
       "4                   7       16      24      19                    5       no  "
      ]
     },
     "execution_count": 65,
     "metadata": {},
     "output_type": "execute_result"
    }
   ],
   "source": [
    "df_2008.head()"
   ]
  },
  {
   "cell_type": "code",
   "execution_count": 67,
   "metadata": {},
   "outputs": [
    {
     "data": {
      "text/html": [
       "<div>\n",
       "<style scoped>\n",
       "    .dataframe tbody tr th:only-of-type {\n",
       "        vertical-align: middle;\n",
       "    }\n",
       "\n",
       "    .dataframe tbody tr th {\n",
       "        vertical-align: top;\n",
       "    }\n",
       "\n",
       "    .dataframe thead th {\n",
       "        text-align: right;\n",
       "    }\n",
       "</style>\n",
       "<table border=\"1\" class=\"dataframe\">\n",
       "  <thead>\n",
       "    <tr style=\"text-align: right;\">\n",
       "      <th></th>\n",
       "      <th>Model</th>\n",
       "      <th>Displ</th>\n",
       "      <th>Cyl</th>\n",
       "      <th>Trans</th>\n",
       "      <th>Drive</th>\n",
       "      <th>Fuel</th>\n",
       "      <th>Cert Region</th>\n",
       "      <th>Veh Class</th>\n",
       "      <th>Air Pollution Score</th>\n",
       "      <th>City MPG</th>\n",
       "      <th>Hwy MPG</th>\n",
       "      <th>Cmb MPG</th>\n",
       "      <th>Greenhouse Gas Score</th>\n",
       "      <th>SmartWay</th>\n",
       "    </tr>\n",
       "  </thead>\n",
       "  <tbody>\n",
       "    <tr>\n",
       "      <th>0</th>\n",
       "      <td>ACURA MDX</td>\n",
       "      <td>3.7</td>\n",
       "      <td>(6 cyl)</td>\n",
       "      <td>Auto-S5</td>\n",
       "      <td>4WD</td>\n",
       "      <td>Gasoline</td>\n",
       "      <td>CA</td>\n",
       "      <td>SUV</td>\n",
       "      <td>7</td>\n",
       "      <td>15</td>\n",
       "      <td>20</td>\n",
       "      <td>17</td>\n",
       "      <td>4</td>\n",
       "      <td>no</td>\n",
       "    </tr>\n",
       "    <tr>\n",
       "      <th>1</th>\n",
       "      <td>ACURA MDX</td>\n",
       "      <td>3.7</td>\n",
       "      <td>(6 cyl)</td>\n",
       "      <td>Auto-S5</td>\n",
       "      <td>4WD</td>\n",
       "      <td>Gasoline</td>\n",
       "      <td>FA</td>\n",
       "      <td>SUV</td>\n",
       "      <td>6</td>\n",
       "      <td>15</td>\n",
       "      <td>20</td>\n",
       "      <td>17</td>\n",
       "      <td>4</td>\n",
       "      <td>no</td>\n",
       "    </tr>\n",
       "    <tr>\n",
       "      <th>2</th>\n",
       "      <td>ACURA RDX</td>\n",
       "      <td>2.3</td>\n",
       "      <td>(4 cyl)</td>\n",
       "      <td>Auto-S5</td>\n",
       "      <td>4WD</td>\n",
       "      <td>Gasoline</td>\n",
       "      <td>CA</td>\n",
       "      <td>SUV</td>\n",
       "      <td>7</td>\n",
       "      <td>17</td>\n",
       "      <td>22</td>\n",
       "      <td>19</td>\n",
       "      <td>5</td>\n",
       "      <td>no</td>\n",
       "    </tr>\n",
       "    <tr>\n",
       "      <th>3</th>\n",
       "      <td>ACURA RDX</td>\n",
       "      <td>2.3</td>\n",
       "      <td>(4 cyl)</td>\n",
       "      <td>Auto-S5</td>\n",
       "      <td>4WD</td>\n",
       "      <td>Gasoline</td>\n",
       "      <td>FA</td>\n",
       "      <td>SUV</td>\n",
       "      <td>6</td>\n",
       "      <td>17</td>\n",
       "      <td>22</td>\n",
       "      <td>19</td>\n",
       "      <td>5</td>\n",
       "      <td>no</td>\n",
       "    </tr>\n",
       "    <tr>\n",
       "      <th>4</th>\n",
       "      <td>ACURA RL</td>\n",
       "      <td>3.5</td>\n",
       "      <td>(6 cyl)</td>\n",
       "      <td>Auto-S5</td>\n",
       "      <td>4WD</td>\n",
       "      <td>Gasoline</td>\n",
       "      <td>CA</td>\n",
       "      <td>midsize car</td>\n",
       "      <td>7</td>\n",
       "      <td>16</td>\n",
       "      <td>24</td>\n",
       "      <td>19</td>\n",
       "      <td>5</td>\n",
       "      <td>no</td>\n",
       "    </tr>\n",
       "  </tbody>\n",
       "</table>\n",
       "</div>"
      ],
      "text/plain": [
       "       Model  Displ      Cyl    Trans Drive      Fuel Cert Region  \\\n",
       "0  ACURA MDX    3.7  (6 cyl)  Auto-S5   4WD  Gasoline          CA   \n",
       "1  ACURA MDX    3.7  (6 cyl)  Auto-S5   4WD  Gasoline          FA   \n",
       "2  ACURA RDX    2.3  (4 cyl)  Auto-S5   4WD  Gasoline          CA   \n",
       "3  ACURA RDX    2.3  (4 cyl)  Auto-S5   4WD  Gasoline          FA   \n",
       "4   ACURA RL    3.5  (6 cyl)  Auto-S5   4WD  Gasoline          CA   \n",
       "\n",
       "     Veh Class Air Pollution Score City MPG Hwy MPG Cmb MPG  \\\n",
       "0          SUV                   7       15      20      17   \n",
       "1          SUV                   6       15      20      17   \n",
       "2          SUV                   7       17      22      19   \n",
       "3          SUV                   6       17      22      19   \n",
       "4  midsize car                   7       16      24      19   \n",
       "\n",
       "  Greenhouse Gas Score SmartWay  \n",
       "0                    4       no  \n",
       "1                    4       no  \n",
       "2                    5       no  \n",
       "3                    5       no  \n",
       "4                    5       no  "
      ]
     },
     "execution_count": 67,
     "metadata": {},
     "output_type": "execute_result"
    }
   ],
   "source": [
    "# Renaming Columns for consistency\n",
    "df_2018.rename({'Sales Area' : 'Cert Region'}, axis = 1, inplace = True)\n",
    "df_2008.rename({'Sales Area' : 'Cert Region'}, axis = 1, inplace = True)"
   ]
  },
  {
   "cell_type": "code",
   "execution_count": 68,
   "metadata": {},
   "outputs": [],
   "source": [
    "# Renaming columns for ease of work\n",
    "\n",
    "for col in df_2018.columns:\n",
    "    words = col.split()\n",
    "    a = map(lambda x: x.lower(), words)\n",
    "    words = list(a)\n",
    "    new_col = '_'.join(words)\n",
    "    df_2018.rename({str(col) : str(new_col)}, axis = 1, inplace = True)\n",
    "\n",
    "for col in df_2008.columns:\n",
    "    words = col.split()\n",
    "    a = map(lambda x: x.lower(), words)\n",
    "    words = list(a)\n",
    "    new_col = '_'.join(words)\n",
    "    df_2008.rename({str(col) : str(new_col)}, axis = 1, inplace = True)"
   ]
  },
  {
   "cell_type": "markdown",
   "metadata": {},
   "source": [
    "### Filtering\n",
    "We're going to leave just the cars that have been certified by CA standards"
   ]
  },
  {
   "cell_type": "code",
   "execution_count": 69,
   "metadata": {},
   "outputs": [],
   "source": [
    "df_2018.query('cert_region == \"CA\"', inplace = True)"
   ]
  },
  {
   "cell_type": "code",
   "execution_count": 70,
   "metadata": {},
   "outputs": [],
   "source": [
    "df_2008.query('cert_region == \"CA\"', inplace = True)"
   ]
  },
  {
   "cell_type": "code",
   "execution_count": 75,
   "metadata": {},
   "outputs": [
    {
     "name": "stdout",
     "output_type": "stream",
     "text": [
      "['CA']\n",
      "['CA']\n"
     ]
    }
   ],
   "source": [
    "# Checking that only CA values are remaining\n",
    "print(df_2008['cert_region'].unique())\n",
    "print(df_2018['cert_region'].unique())"
   ]
  },
  {
   "cell_type": "code",
   "execution_count": 77,
   "metadata": {},
   "outputs": [],
   "source": [
    "# Dropping the Certification column because it's no longer needed\n",
    "\n",
    "df_2008.drop('cert_region', inplace = True, axis = 1)\n",
    "df_2018.drop('cert_region', inplace = True, axis = 1)"
   ]
  },
  {
   "cell_type": "code",
   "execution_count": 78,
   "metadata": {},
   "outputs": [],
   "source": [
    "# Dropping Columns with null values\n",
    "df_2008.dropna(inplace= True)\n",
    "df_2018.dropna(inplace=True)\n",
    "\n",
    "# Dropping columns with duplicated values\n",
    "df_2008.drop_duplicates(inplace=True)\n",
    "df_2018.drop_duplicates(inplace=True)"
   ]
  },
  {
   "cell_type": "code",
   "execution_count": 79,
   "metadata": {},
   "outputs": [
    {
     "data": {
      "text/plain": [
       "(986, 13)"
      ]
     },
     "execution_count": 79,
     "metadata": {},
     "output_type": "execute_result"
    }
   ],
   "source": [
    "df_2008.shape"
   ]
  },
  {
   "cell_type": "code",
   "execution_count": 80,
   "metadata": {},
   "outputs": [
    {
     "data": {
      "text/plain": [
       "(794, 13)"
      ]
     },
     "execution_count": 80,
     "metadata": {},
     "output_type": "execute_result"
    }
   ],
   "source": [
    "df_2018.shape"
   ]
  },
  {
   "cell_type": "code",
   "execution_count": null,
   "metadata": {},
   "outputs": [],
   "source": []
  }
 ],
 "metadata": {
  "kernelspec": {
   "display_name": "Python 3.10.4 64-bit",
   "language": "python",
   "name": "python3"
  },
  "language_info": {
   "codemirror_mode": {
    "name": "ipython",
    "version": 3
   },
   "file_extension": ".py",
   "mimetype": "text/x-python",
   "name": "python",
   "nbconvert_exporter": "python",
   "pygments_lexer": "ipython3",
   "version": "3.10.4"
  },
  "orig_nbformat": 4,
  "vscode": {
   "interpreter": {
    "hash": "aee8b7b246df8f9039afb4144a1f6fd8d2ca17a180786b69acc140d282b71a49"
   }
  }
 },
 "nbformat": 4,
 "nbformat_minor": 2
}
