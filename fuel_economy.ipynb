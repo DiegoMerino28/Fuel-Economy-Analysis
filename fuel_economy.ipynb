{
 "cells": [
  {
   "cell_type": "code",
   "execution_count": 38,
   "metadata": {},
   "outputs": [],
   "source": [
    "# Packages importation\n",
    "import pandas as pd\n",
    "import numpy as np \n",
    "import matplotlib.pyplot as plt\n",
    "import seaborn as sns\n",
    "%matplotlib inline\n",
    "\n",
    "# Data load\n",
    "\n",
    "df_2008 = pd.read_csv('all_alpha_08.csv')\n",
    "df_2018 = pd.read_csv('all_alpha_18.csv')\n"
   ]
  },
  {
   "cell_type": "markdown",
   "metadata": {},
   "source": [
    "### Initial Analysis"
   ]
  },
  {
   "cell_type": "markdown",
   "metadata": {},
   "source": [
    "#### 2008 Dataset"
   ]
  },
  {
   "cell_type": "code",
   "execution_count": 34,
   "metadata": {},
   "outputs": [
    {
     "name": "stdout",
     "output_type": "stream",
     "text": [
      "The number of rows and columns is: (2404, 18).\n",
      "There are 25 duplicated rows in the dataset.\n",
      "There are 199 rows with missing info in this dataset\n",
      "\n",
      "The datatypes for the 2008 dataset are: \n",
      " Model                    object\n",
      "Displ                   float64\n",
      "Cyl                      object\n",
      "Trans                    object\n",
      "Drive                    object\n",
      "Fuel                     object\n",
      "Sales Area               object\n",
      "Stnd                     object\n",
      "Underhood ID             object\n",
      "Veh Class                object\n",
      "Air Pollution Score      object\n",
      "FE Calc Appr             object\n",
      "City MPG                 object\n",
      "Hwy MPG                  object\n",
      "Cmb MPG                  object\n",
      "Unadj Cmb MPG           float64\n",
      "Greenhouse Gas Score     object\n",
      "SmartWay                 object\n",
      "dtype: object\n",
      "\n",
      "The unique non-null values for the SmartWay field are: \n",
      "no     1766\n",
      "yes     638\n",
      "Name: SmartWay, dtype: int64\n",
      "\n",
      "The unique non-null values for the Sales Area field are: \n",
      "FA    1157\n",
      "CA    1084\n",
      "FC     163\n",
      "Name: Sales Area, dtype: int64\n",
      "\n",
      "The unique non-null values for the Transmision Area field are: \n",
      "Auto-L4    502\n",
      "Auto-L5    329\n",
      "Auto-S6    327\n",
      "Man-6      295\n",
      "Man-5      269\n",
      "Auto-S5    147\n",
      "Auto-L6    118\n",
      "Auto-AV     86\n",
      "Auto-S4     42\n",
      "Auto-L7     42\n",
      "Auto-S7     22\n",
      "Auto-4      10\n",
      "Auto-6       8\n",
      "S8           8\n",
      "Name: Trans, dtype: int64\n"
     ]
    }
   ],
   "source": [
    "# Count of samples and columns\n",
    "print('The number of rows and columns is: {}.'.format(df_2008.shape))\n",
    "\n",
    "# Number of duplicated rows\n",
    "print('There are {} duplicated rows in the dataset.'.format(df_2008.duplicated().sum()))\n",
    "\n",
    "# Number of rows with missing values\n",
    "print('There are {} rows with missing info in this dataset'.format(df_2008.isna().any(axis = 1).sum()))\n",
    "\n",
    "# Datatypes \n",
    "print('\\nThe datatypes for the 2008 dataset are: \\n {}'.format(df_2008.dtypes))\n",
    "\n",
    "# Unique values\n",
    "print('\\nThe unique non-null values for the SmartWay field are: \\n{}'.format(df_2008['SmartWay'].value_counts()))\n",
    "print('\\nThe unique non-null values for the Sales Area field are: \\n{}'.format(df_2008['Sales Area'].value_counts()))\n",
    "print('\\nThe unique non-null values for the Transmision Area field are: \\n{}'.format(df_2008['Trans'].value_counts()))"
   ]
  },
  {
   "cell_type": "markdown",
   "metadata": {},
   "source": [
    "#### 2018 Dataset"
   ]
  },
  {
   "cell_type": "code",
   "execution_count": 35,
   "metadata": {},
   "outputs": [
    {
     "name": "stdout",
     "output_type": "stream",
     "text": [
      "The number of rows and columns is: (1611, 18).\n",
      "There are 0 duplicated rows in the dataset.\n",
      "There are 2 rows with missing info in this dataset\n",
      "The datatypes for the 2018 dataset are: \n",
      " Model                    object\n",
      "Displ                   float64\n",
      "Cyl                     float64\n",
      "Trans                    object\n",
      "Drive                    object\n",
      "Fuel                     object\n",
      "Cert Region              object\n",
      "Stnd                     object\n",
      "Stnd Description         object\n",
      "Underhood ID             object\n",
      "Veh Class                object\n",
      "Air Pollution Score       int64\n",
      "City MPG                 object\n",
      "Hwy MPG                  object\n",
      "Cmb MPG                  object\n",
      "Greenhouse Gas Score      int64\n",
      "SmartWay                 object\n",
      "Comb CO2                 object\n",
      "dtype: object\n",
      "\n",
      "The unique non-null values for the SmartWay field are: \n",
      "No       1414\n",
      "Yes       175\n",
      "Elite      22\n",
      "Name: SmartWay, dtype: int64\n",
      "\n",
      "The unique non-null values for the Cert Region field are: \n",
      "FA    813\n",
      "CA    798\n",
      "Name: Cert Region, dtype: int64\n"
     ]
    }
   ],
   "source": [
    "# Count of samples and columns\n",
    "print('The number of rows and columns is: {}.'.format(df_2018.shape))\n",
    "\n",
    "# Number of duplicated rows\n",
    "print('There are {} duplicated rows in the dataset.'.format(df_2018.duplicated().sum()))\n",
    "\n",
    "# Number of rows with missing values\n",
    "print('There are {} rows with missing info in this dataset'.format(df_2018.isna().any(axis = 1).sum()))\n",
    "\n",
    "#Datatypes\n",
    "print('The datatypes for the 2018 dataset are: \\n {}'.format(df_2018.dtypes))\n",
    "\n",
    "# Unique values\n",
    "print('\\nThe unique non-null values for the SmartWay field are: \\n{}'.format(df_2018['SmartWay'].value_counts()))\n",
    "\n",
    "print('\\nThe unique non-null values for the Cert Region field are: \\n{}'.format(df_2018['Cert Region'].value_counts()))\n"
   ]
  },
  {
   "cell_type": "markdown",
   "metadata": {},
   "source": [
    "#### Fuel Types (2008 Vs. 2018)"
   ]
  },
  {
   "cell_type": "code",
   "execution_count": 39,
   "metadata": {},
   "outputs": [
    {
     "name": "stdout",
     "output_type": "stream",
     "text": [
      "Gasoline       2318\n",
      "ethanol/gas      72\n",
      "diesel           11\n",
      "CNG               2\n",
      "ethanol           1\n",
      "Name: Fuel, dtype: int64\n",
      "Gasoline                1492\n",
      "Ethanol/Gas               55\n",
      "Diesel                    38\n",
      "Gasoline/Electricity      24\n",
      "Electricity                2\n",
      "Name: Fuel, dtype: int64\n"
     ]
    }
   ],
   "source": [
    "print(df_2008['Fuel'].value_counts())\n",
    "\n",
    "print(df_2018['Fuel'].value_counts())"
   ]
  },
  {
   "cell_type": "code",
   "execution_count": null,
   "metadata": {},
   "outputs": [],
   "source": []
  }
 ],
 "metadata": {
  "kernelspec": {
   "display_name": "Python 3.10.4 64-bit",
   "language": "python",
   "name": "python3"
  },
  "language_info": {
   "codemirror_mode": {
    "name": "ipython",
    "version": 3
   },
   "file_extension": ".py",
   "mimetype": "text/x-python",
   "name": "python",
   "nbconvert_exporter": "python",
   "pygments_lexer": "ipython3",
   "version": "3.10.4"
  },
  "orig_nbformat": 4,
  "vscode": {
   "interpreter": {
    "hash": "aee8b7b246df8f9039afb4144a1f6fd8d2ca17a180786b69acc140d282b71a49"
   }
  }
 },
 "nbformat": 4,
 "nbformat_minor": 2
}
