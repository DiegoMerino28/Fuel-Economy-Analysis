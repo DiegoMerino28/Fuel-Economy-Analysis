{
 "cells": [
  {
   "cell_type": "code",
   "execution_count": 2,
   "metadata": {},
   "outputs": [],
   "source": [
    "# Packages importation\n",
    "import pandas as pd\n",
    "import numpy as np \n",
    "import matplotlib.pyplot as plt\n",
    "import seaborn as sns\n",
    "import matplotlib.pyplot as plt\n",
    "%matplotlib inline\n",
    "\n",
    "# Data load\n",
    "\n",
    "df_2008 = pd.read_csv('all_alpha_08.csv')\n",
    "df_2018 = pd.read_csv('all_alpha_18.csv')\n"
   ]
  },
  {
   "cell_type": "markdown",
   "metadata": {},
   "source": [
    "### Initial Analysis"
   ]
  },
  {
   "cell_type": "markdown",
   "metadata": {},
   "source": [
    "#### 2008 Dataset"
   ]
  },
  {
   "cell_type": "code",
   "execution_count": 3,
   "metadata": {},
   "outputs": [
    {
     "name": "stdout",
     "output_type": "stream",
     "text": [
      "The number of rows and columns is: (2404, 18).\n",
      "There are 25 duplicated rows in the dataset.\n",
      "There are 199 rows with missing info in this dataset\n",
      "\n",
      "The datatypes for the 2008 dataset are: \n",
      " Model                    object\n",
      "Displ                   float64\n",
      "Cyl                      object\n",
      "Trans                    object\n",
      "Drive                    object\n",
      "Fuel                     object\n",
      "Sales Area               object\n",
      "Stnd                     object\n",
      "Underhood ID             object\n",
      "Veh Class                object\n",
      "Air Pollution Score      object\n",
      "FE Calc Appr             object\n",
      "City MPG                 object\n",
      "Hwy MPG                  object\n",
      "Cmb MPG                  object\n",
      "Unadj Cmb MPG           float64\n",
      "Greenhouse Gas Score     object\n",
      "SmartWay                 object\n",
      "dtype: object\n",
      "\n",
      "The unique non-null values for the SmartWay field are: \n",
      "no     1766\n",
      "yes     638\n",
      "Name: SmartWay, dtype: int64\n",
      "\n",
      "The unique non-null values for the Sales Area field are: \n",
      "FA    1157\n",
      "CA    1084\n",
      "FC     163\n",
      "Name: Sales Area, dtype: int64\n",
      "\n",
      "The unique non-null values for the Transmision Area field are: \n",
      "Auto-L4    502\n",
      "Auto-L5    329\n",
      "Auto-S6    327\n",
      "Man-6      295\n",
      "Man-5      269\n",
      "Auto-S5    147\n",
      "Auto-L6    118\n",
      "Auto-AV     86\n",
      "Auto-S4     42\n",
      "Auto-L7     42\n",
      "Auto-S7     22\n",
      "Auto-4      10\n",
      "Auto-6       8\n",
      "S8           8\n",
      "Name: Trans, dtype: int64\n"
     ]
    }
   ],
   "source": [
    "# Count of samples and columns\n",
    "print('The number of rows and columns is: {}.'.format(df_2008.shape))\n",
    "\n",
    "# Number of duplicated rows\n",
    "print('There are {} duplicated rows in the dataset.'.format(df_2008.duplicated().sum()))\n",
    "\n",
    "# Number of rows with missing values\n",
    "print('There are {} rows with missing info in this dataset'.format(df_2008.isna().any(axis = 1).sum()))\n",
    "\n",
    "# Datatypes \n",
    "print('\\nThe datatypes for the 2008 dataset are: \\n {}'.format(df_2008.dtypes))\n",
    "\n",
    "# Unique values\n",
    "print('\\nThe unique non-null values for the SmartWay field are: \\n{}'.format(df_2008['SmartWay'].value_counts()))\n",
    "print('\\nThe unique non-null values for the Sales Area field are: \\n{}'.format(df_2008['Sales Area'].value_counts()))\n",
    "print('\\nThe unique non-null values for the Transmision Area field are: \\n{}'.format(df_2008['Trans'].value_counts()))"
   ]
  },
  {
   "cell_type": "markdown",
   "metadata": {},
   "source": [
    "#### 2018 Dataset"
   ]
  },
  {
   "cell_type": "code",
   "execution_count": 4,
   "metadata": {},
   "outputs": [
    {
     "name": "stdout",
     "output_type": "stream",
     "text": [
      "The number of rows and columns is: (1611, 18).\n",
      "There are 0 duplicated rows in the dataset.\n",
      "There are 2 rows with missing info in this dataset\n",
      "The datatypes for the 2018 dataset are: \n",
      " Model                    object\n",
      "Displ                   float64\n",
      "Cyl                     float64\n",
      "Trans                    object\n",
      "Drive                    object\n",
      "Fuel                     object\n",
      "Cert Region              object\n",
      "Stnd                     object\n",
      "Stnd Description         object\n",
      "Underhood ID             object\n",
      "Veh Class                object\n",
      "Air Pollution Score       int64\n",
      "City MPG                 object\n",
      "Hwy MPG                  object\n",
      "Cmb MPG                  object\n",
      "Greenhouse Gas Score      int64\n",
      "SmartWay                 object\n",
      "Comb CO2                 object\n",
      "dtype: object\n",
      "\n",
      "The unique non-null values for the SmartWay field are: \n",
      "No       1414\n",
      "Yes       175\n",
      "Elite      22\n",
      "Name: SmartWay, dtype: int64\n",
      "\n",
      "The unique non-null values for the Cert Region field are: \n",
      "FA    813\n",
      "CA    798\n",
      "Name: Cert Region, dtype: int64\n"
     ]
    }
   ],
   "source": [
    "# Count of samples and columns\n",
    "print('The number of rows and columns is: {}.'.format(df_2018.shape))\n",
    "\n",
    "# Number of duplicated rows\n",
    "print('There are {} duplicated rows in the dataset.'.format(df_2018.duplicated().sum()))\n",
    "\n",
    "# Number of rows with missing values\n",
    "print('There are {} rows with missing info in this dataset'.format(df_2018.isna().any(axis = 1).sum()))\n",
    "\n",
    "#Datatypes\n",
    "print('The datatypes for the 2018 dataset are: \\n {}'.format(df_2018.dtypes))\n",
    "\n",
    "# Unique values\n",
    "print('\\nThe unique non-null values for the SmartWay field are: \\n{}'.format(df_2018['SmartWay'].value_counts()))\n",
    "\n",
    "print('\\nThe unique non-null values for the Cert Region field are: \\n{}'.format(df_2018['Cert Region'].value_counts()))\n"
   ]
  },
  {
   "cell_type": "markdown",
   "metadata": {},
   "source": [
    "#### Fuel Types (2008 Vs. 2018)"
   ]
  },
  {
   "cell_type": "code",
   "execution_count": 5,
   "metadata": {},
   "outputs": [
    {
     "name": "stdout",
     "output_type": "stream",
     "text": [
      "Gasoline       2318\n",
      "ethanol/gas      72\n",
      "diesel           11\n",
      "CNG               2\n",
      "ethanol           1\n",
      "Name: Fuel, dtype: int64\n",
      "Gasoline                1492\n",
      "Ethanol/Gas               55\n",
      "Diesel                    38\n",
      "Gasoline/Electricity      24\n",
      "Electricity                2\n",
      "Name: Fuel, dtype: int64\n"
     ]
    }
   ],
   "source": [
    "print(df_2008['Fuel'].value_counts())\n",
    "\n",
    "print(df_2018['Fuel'].value_counts())"
   ]
  },
  {
   "cell_type": "markdown",
   "metadata": {},
   "source": [
    "#### Columns Cleaning"
   ]
  },
  {
   "cell_type": "code",
   "execution_count": 6,
   "metadata": {},
   "outputs": [],
   "source": [
    "# 2008 drop \n",
    "df_2008.drop(['Stnd', 'Underhood ID', 'FE Calc Appr', 'Unadj Cmb MPG'], axis = 1, inplace = True)\n",
    "\n",
    "# 2018 drop\n",
    "df_2018.drop(['Stnd', 'Stnd Description', 'Underhood ID', 'Comb CO2'], axis = 1, inplace = True)"
   ]
  },
  {
   "cell_type": "code",
   "execution_count": 7,
   "metadata": {},
   "outputs": [
    {
     "data": {
      "text/html": [
       "<div>\n",
       "<style scoped>\n",
       "    .dataframe tbody tr th:only-of-type {\n",
       "        vertical-align: middle;\n",
       "    }\n",
       "\n",
       "    .dataframe tbody tr th {\n",
       "        vertical-align: top;\n",
       "    }\n",
       "\n",
       "    .dataframe thead th {\n",
       "        text-align: right;\n",
       "    }\n",
       "</style>\n",
       "<table border=\"1\" class=\"dataframe\">\n",
       "  <thead>\n",
       "    <tr style=\"text-align: right;\">\n",
       "      <th></th>\n",
       "      <th>Model</th>\n",
       "      <th>Displ</th>\n",
       "      <th>Cyl</th>\n",
       "      <th>Trans</th>\n",
       "      <th>Drive</th>\n",
       "      <th>Fuel</th>\n",
       "      <th>Sales Area</th>\n",
       "      <th>Veh Class</th>\n",
       "      <th>Air Pollution Score</th>\n",
       "      <th>City MPG</th>\n",
       "      <th>Hwy MPG</th>\n",
       "      <th>Cmb MPG</th>\n",
       "      <th>Greenhouse Gas Score</th>\n",
       "      <th>SmartWay</th>\n",
       "    </tr>\n",
       "  </thead>\n",
       "  <tbody>\n",
       "    <tr>\n",
       "      <th>0</th>\n",
       "      <td>ACURA MDX</td>\n",
       "      <td>3.7</td>\n",
       "      <td>(6 cyl)</td>\n",
       "      <td>Auto-S5</td>\n",
       "      <td>4WD</td>\n",
       "      <td>Gasoline</td>\n",
       "      <td>CA</td>\n",
       "      <td>SUV</td>\n",
       "      <td>7</td>\n",
       "      <td>15</td>\n",
       "      <td>20</td>\n",
       "      <td>17</td>\n",
       "      <td>4</td>\n",
       "      <td>no</td>\n",
       "    </tr>\n",
       "    <tr>\n",
       "      <th>1</th>\n",
       "      <td>ACURA MDX</td>\n",
       "      <td>3.7</td>\n",
       "      <td>(6 cyl)</td>\n",
       "      <td>Auto-S5</td>\n",
       "      <td>4WD</td>\n",
       "      <td>Gasoline</td>\n",
       "      <td>FA</td>\n",
       "      <td>SUV</td>\n",
       "      <td>6</td>\n",
       "      <td>15</td>\n",
       "      <td>20</td>\n",
       "      <td>17</td>\n",
       "      <td>4</td>\n",
       "      <td>no</td>\n",
       "    </tr>\n",
       "    <tr>\n",
       "      <th>2</th>\n",
       "      <td>ACURA RDX</td>\n",
       "      <td>2.3</td>\n",
       "      <td>(4 cyl)</td>\n",
       "      <td>Auto-S5</td>\n",
       "      <td>4WD</td>\n",
       "      <td>Gasoline</td>\n",
       "      <td>CA</td>\n",
       "      <td>SUV</td>\n",
       "      <td>7</td>\n",
       "      <td>17</td>\n",
       "      <td>22</td>\n",
       "      <td>19</td>\n",
       "      <td>5</td>\n",
       "      <td>no</td>\n",
       "    </tr>\n",
       "    <tr>\n",
       "      <th>3</th>\n",
       "      <td>ACURA RDX</td>\n",
       "      <td>2.3</td>\n",
       "      <td>(4 cyl)</td>\n",
       "      <td>Auto-S5</td>\n",
       "      <td>4WD</td>\n",
       "      <td>Gasoline</td>\n",
       "      <td>FA</td>\n",
       "      <td>SUV</td>\n",
       "      <td>6</td>\n",
       "      <td>17</td>\n",
       "      <td>22</td>\n",
       "      <td>19</td>\n",
       "      <td>5</td>\n",
       "      <td>no</td>\n",
       "    </tr>\n",
       "    <tr>\n",
       "      <th>4</th>\n",
       "      <td>ACURA RL</td>\n",
       "      <td>3.5</td>\n",
       "      <td>(6 cyl)</td>\n",
       "      <td>Auto-S5</td>\n",
       "      <td>4WD</td>\n",
       "      <td>Gasoline</td>\n",
       "      <td>CA</td>\n",
       "      <td>midsize car</td>\n",
       "      <td>7</td>\n",
       "      <td>16</td>\n",
       "      <td>24</td>\n",
       "      <td>19</td>\n",
       "      <td>5</td>\n",
       "      <td>no</td>\n",
       "    </tr>\n",
       "  </tbody>\n",
       "</table>\n",
       "</div>"
      ],
      "text/plain": [
       "       Model  Displ      Cyl    Trans Drive      Fuel Sales Area    Veh Class  \\\n",
       "0  ACURA MDX    3.7  (6 cyl)  Auto-S5   4WD  Gasoline         CA          SUV   \n",
       "1  ACURA MDX    3.7  (6 cyl)  Auto-S5   4WD  Gasoline         FA          SUV   \n",
       "2  ACURA RDX    2.3  (4 cyl)  Auto-S5   4WD  Gasoline         CA          SUV   \n",
       "3  ACURA RDX    2.3  (4 cyl)  Auto-S5   4WD  Gasoline         FA          SUV   \n",
       "4   ACURA RL    3.5  (6 cyl)  Auto-S5   4WD  Gasoline         CA  midsize car   \n",
       "\n",
       "  Air Pollution Score City MPG Hwy MPG Cmb MPG Greenhouse Gas Score SmartWay  \n",
       "0                   7       15      20      17                    4       no  \n",
       "1                   6       15      20      17                    4       no  \n",
       "2                   7       17      22      19                    5       no  \n",
       "3                   6       17      22      19                    5       no  \n",
       "4                   7       16      24      19                    5       no  "
      ]
     },
     "execution_count": 7,
     "metadata": {},
     "output_type": "execute_result"
    }
   ],
   "source": [
    "df_2008.head()"
   ]
  },
  {
   "cell_type": "code",
   "execution_count": 8,
   "metadata": {},
   "outputs": [],
   "source": [
    "# Renaming Columns for consistency\n",
    "df_2018.rename({'Sales Area' : 'Cert Region'}, axis = 1, inplace = True)\n",
    "df_2008.rename({'Sales Area' : 'Cert Region'}, axis = 1, inplace = True)"
   ]
  },
  {
   "cell_type": "code",
   "execution_count": 9,
   "metadata": {},
   "outputs": [],
   "source": [
    "# Renaming columns for ease of work\n",
    "\n",
    "for col in df_2018.columns:\n",
    "    words = col.split()\n",
    "    a = map(lambda x: x.lower(), words)\n",
    "    words = list(a)\n",
    "    new_col = '_'.join(words)\n",
    "    df_2018.rename({str(col) : str(new_col)}, axis = 1, inplace = True)\n",
    "\n",
    "for col in df_2008.columns:\n",
    "    words = col.split()\n",
    "    a = map(lambda x: x.lower(), words)\n",
    "    words = list(a)\n",
    "    new_col = '_'.join(words)\n",
    "    df_2008.rename({str(col) : str(new_col)}, axis = 1, inplace = True)"
   ]
  },
  {
   "cell_type": "markdown",
   "metadata": {},
   "source": [
    "### Filtering\n",
    "We're going to leave just the cars that have been certified by CA standards"
   ]
  },
  {
   "cell_type": "code",
   "execution_count": 10,
   "metadata": {},
   "outputs": [],
   "source": [
    "df_2018.query('cert_region == \"CA\"', inplace = True)"
   ]
  },
  {
   "cell_type": "code",
   "execution_count": 11,
   "metadata": {},
   "outputs": [],
   "source": [
    "df_2008.query('cert_region == \"CA\"', inplace = True)"
   ]
  },
  {
   "cell_type": "code",
   "execution_count": 12,
   "metadata": {},
   "outputs": [
    {
     "name": "stdout",
     "output_type": "stream",
     "text": [
      "['CA']\n",
      "['CA']\n"
     ]
    }
   ],
   "source": [
    "# Checking that only CA values are remaining\n",
    "print(df_2008['cert_region'].unique())\n",
    "print(df_2018['cert_region'].unique())"
   ]
  },
  {
   "cell_type": "code",
   "execution_count": 13,
   "metadata": {},
   "outputs": [],
   "source": [
    "# Dropping the Certification column because it's no longer needed\n",
    "\n",
    "df_2008.drop('cert_region', inplace = True, axis = 1)\n",
    "df_2018.drop('cert_region', inplace = True, axis = 1)"
   ]
  },
  {
   "cell_type": "code",
   "execution_count": 14,
   "metadata": {},
   "outputs": [],
   "source": [
    "# Dropping Columns with null values\n",
    "df_2008.dropna(inplace= True)\n",
    "df_2018.dropna(inplace=True)\n",
    "\n",
    "# Dropping columns with duplicated values\n",
    "df_2008.drop_duplicates(inplace=True)\n",
    "df_2018.drop_duplicates(inplace=True)"
   ]
  },
  {
   "cell_type": "markdown",
   "metadata": {},
   "source": [
    "### Casting Datatypes for Consistency"
   ]
  },
  {
   "cell_type": "code",
   "execution_count": 15,
   "metadata": {},
   "outputs": [
    {
     "data": {
      "text/html": [
       "<div>\n",
       "<style scoped>\n",
       "    .dataframe tbody tr th:only-of-type {\n",
       "        vertical-align: middle;\n",
       "    }\n",
       "\n",
       "    .dataframe tbody tr th {\n",
       "        vertical-align: top;\n",
       "    }\n",
       "\n",
       "    .dataframe thead th {\n",
       "        text-align: right;\n",
       "    }\n",
       "</style>\n",
       "<table border=\"1\" class=\"dataframe\">\n",
       "  <thead>\n",
       "    <tr style=\"text-align: right;\">\n",
       "      <th></th>\n",
       "      <th>model</th>\n",
       "      <th>displ</th>\n",
       "      <th>cyl</th>\n",
       "      <th>trans</th>\n",
       "      <th>drive</th>\n",
       "      <th>fuel</th>\n",
       "      <th>veh_class</th>\n",
       "      <th>air_pollution_score</th>\n",
       "      <th>city_mpg</th>\n",
       "      <th>hwy_mpg</th>\n",
       "      <th>cmb_mpg</th>\n",
       "      <th>greenhouse_gas_score</th>\n",
       "      <th>smartway</th>\n",
       "    </tr>\n",
       "  </thead>\n",
       "  <tbody>\n",
       "    <tr>\n",
       "      <th>1</th>\n",
       "      <td>ACURA RDX</td>\n",
       "      <td>3.5</td>\n",
       "      <td>6</td>\n",
       "      <td>SemiAuto-6</td>\n",
       "      <td>2WD</td>\n",
       "      <td>Gasoline</td>\n",
       "      <td>small SUV</td>\n",
       "      <td>3</td>\n",
       "      <td>20</td>\n",
       "      <td>28</td>\n",
       "      <td>23</td>\n",
       "      <td>5</td>\n",
       "      <td>No</td>\n",
       "    </tr>\n",
       "    <tr>\n",
       "      <th>3</th>\n",
       "      <td>ACURA RDX</td>\n",
       "      <td>3.5</td>\n",
       "      <td>6</td>\n",
       "      <td>SemiAuto-6</td>\n",
       "      <td>4WD</td>\n",
       "      <td>Gasoline</td>\n",
       "      <td>small SUV</td>\n",
       "      <td>3</td>\n",
       "      <td>19</td>\n",
       "      <td>27</td>\n",
       "      <td>22</td>\n",
       "      <td>4</td>\n",
       "      <td>No</td>\n",
       "    </tr>\n",
       "    <tr>\n",
       "      <th>4</th>\n",
       "      <td>ACURA TLX</td>\n",
       "      <td>2.4</td>\n",
       "      <td>4</td>\n",
       "      <td>AMS-8</td>\n",
       "      <td>2WD</td>\n",
       "      <td>Gasoline</td>\n",
       "      <td>small car</td>\n",
       "      <td>3</td>\n",
       "      <td>23</td>\n",
       "      <td>33</td>\n",
       "      <td>27</td>\n",
       "      <td>6</td>\n",
       "      <td>No</td>\n",
       "    </tr>\n",
       "    <tr>\n",
       "      <th>6</th>\n",
       "      <td>ACURA TLX</td>\n",
       "      <td>3.5</td>\n",
       "      <td>6</td>\n",
       "      <td>SemiAuto-9</td>\n",
       "      <td>2WD</td>\n",
       "      <td>Gasoline</td>\n",
       "      <td>small car</td>\n",
       "      <td>3</td>\n",
       "      <td>20</td>\n",
       "      <td>32</td>\n",
       "      <td>24</td>\n",
       "      <td>5</td>\n",
       "      <td>No</td>\n",
       "    </tr>\n",
       "    <tr>\n",
       "      <th>8</th>\n",
       "      <td>ACURA TLX</td>\n",
       "      <td>3.5</td>\n",
       "      <td>6</td>\n",
       "      <td>SemiAuto-9</td>\n",
       "      <td>4WD</td>\n",
       "      <td>Gasoline</td>\n",
       "      <td>small car</td>\n",
       "      <td>3</td>\n",
       "      <td>21</td>\n",
       "      <td>30</td>\n",
       "      <td>24</td>\n",
       "      <td>5</td>\n",
       "      <td>No</td>\n",
       "    </tr>\n",
       "    <tr>\n",
       "      <th>...</th>\n",
       "      <td>...</td>\n",
       "      <td>...</td>\n",
       "      <td>...</td>\n",
       "      <td>...</td>\n",
       "      <td>...</td>\n",
       "      <td>...</td>\n",
       "      <td>...</td>\n",
       "      <td>...</td>\n",
       "      <td>...</td>\n",
       "      <td>...</td>\n",
       "      <td>...</td>\n",
       "      <td>...</td>\n",
       "      <td>...</td>\n",
       "    </tr>\n",
       "    <tr>\n",
       "      <th>1601</th>\n",
       "      <td>VOLVO XC 60</td>\n",
       "      <td>2.0</td>\n",
       "      <td>4</td>\n",
       "      <td>SemiAuto-8</td>\n",
       "      <td>4WD</td>\n",
       "      <td>Gasoline/Electricity</td>\n",
       "      <td>small SUV</td>\n",
       "      <td>7</td>\n",
       "      <td>26/60</td>\n",
       "      <td>28/58</td>\n",
       "      <td>26/59</td>\n",
       "      <td>10</td>\n",
       "      <td>Elite</td>\n",
       "    </tr>\n",
       "    <tr>\n",
       "      <th>1603</th>\n",
       "      <td>VOLVO XC 90</td>\n",
       "      <td>2.0</td>\n",
       "      <td>4</td>\n",
       "      <td>SemiAuto-8</td>\n",
       "      <td>2WD</td>\n",
       "      <td>Gasoline</td>\n",
       "      <td>standard SUV</td>\n",
       "      <td>5</td>\n",
       "      <td>22</td>\n",
       "      <td>29</td>\n",
       "      <td>25</td>\n",
       "      <td>5</td>\n",
       "      <td>No</td>\n",
       "    </tr>\n",
       "    <tr>\n",
       "      <th>1605</th>\n",
       "      <td>VOLVO XC 90</td>\n",
       "      <td>2.0</td>\n",
       "      <td>4</td>\n",
       "      <td>SemiAuto-8</td>\n",
       "      <td>4WD</td>\n",
       "      <td>Gasoline</td>\n",
       "      <td>standard SUV</td>\n",
       "      <td>5</td>\n",
       "      <td>22</td>\n",
       "      <td>28</td>\n",
       "      <td>24</td>\n",
       "      <td>5</td>\n",
       "      <td>No</td>\n",
       "    </tr>\n",
       "    <tr>\n",
       "      <th>1607</th>\n",
       "      <td>VOLVO XC 90</td>\n",
       "      <td>2.0</td>\n",
       "      <td>4</td>\n",
       "      <td>SemiAuto-8</td>\n",
       "      <td>4WD</td>\n",
       "      <td>Gasoline</td>\n",
       "      <td>standard SUV</td>\n",
       "      <td>5</td>\n",
       "      <td>20</td>\n",
       "      <td>27</td>\n",
       "      <td>23</td>\n",
       "      <td>5</td>\n",
       "      <td>No</td>\n",
       "    </tr>\n",
       "    <tr>\n",
       "      <th>1609</th>\n",
       "      <td>VOLVO XC 90</td>\n",
       "      <td>2.0</td>\n",
       "      <td>4</td>\n",
       "      <td>SemiAuto-8</td>\n",
       "      <td>4WD</td>\n",
       "      <td>Gasoline/Electricity</td>\n",
       "      <td>standard SUV</td>\n",
       "      <td>7</td>\n",
       "      <td>26/63</td>\n",
       "      <td>30/61</td>\n",
       "      <td>27/62</td>\n",
       "      <td>10</td>\n",
       "      <td>Elite</td>\n",
       "    </tr>\n",
       "  </tbody>\n",
       "</table>\n",
       "<p>794 rows × 13 columns</p>\n",
       "</div>"
      ],
      "text/plain": [
       "            model  displ  cyl       trans drive                  fuel  \\\n",
       "1       ACURA RDX    3.5    6  SemiAuto-6   2WD              Gasoline   \n",
       "3       ACURA RDX    3.5    6  SemiAuto-6   4WD              Gasoline   \n",
       "4       ACURA TLX    2.4    4       AMS-8   2WD              Gasoline   \n",
       "6       ACURA TLX    3.5    6  SemiAuto-9   2WD              Gasoline   \n",
       "8       ACURA TLX    3.5    6  SemiAuto-9   4WD              Gasoline   \n",
       "...           ...    ...  ...         ...   ...                   ...   \n",
       "1601  VOLVO XC 60    2.0    4  SemiAuto-8   4WD  Gasoline/Electricity   \n",
       "1603  VOLVO XC 90    2.0    4  SemiAuto-8   2WD              Gasoline   \n",
       "1605  VOLVO XC 90    2.0    4  SemiAuto-8   4WD              Gasoline   \n",
       "1607  VOLVO XC 90    2.0    4  SemiAuto-8   4WD              Gasoline   \n",
       "1609  VOLVO XC 90    2.0    4  SemiAuto-8   4WD  Gasoline/Electricity   \n",
       "\n",
       "         veh_class  air_pollution_score city_mpg hwy_mpg cmb_mpg  \\\n",
       "1        small SUV                    3       20      28      23   \n",
       "3        small SUV                    3       19      27      22   \n",
       "4        small car                    3       23      33      27   \n",
       "6        small car                    3       20      32      24   \n",
       "8        small car                    3       21      30      24   \n",
       "...            ...                  ...      ...     ...     ...   \n",
       "1601     small SUV                    7    26/60   28/58   26/59   \n",
       "1603  standard SUV                    5       22      29      25   \n",
       "1605  standard SUV                    5       22      28      24   \n",
       "1607  standard SUV                    5       20      27      23   \n",
       "1609  standard SUV                    7    26/63   30/61   27/62   \n",
       "\n",
       "      greenhouse_gas_score smartway  \n",
       "1                        5       No  \n",
       "3                        4       No  \n",
       "4                        6       No  \n",
       "6                        5       No  \n",
       "8                        5       No  \n",
       "...                    ...      ...  \n",
       "1601                    10    Elite  \n",
       "1603                     5       No  \n",
       "1605                     5       No  \n",
       "1607                     5       No  \n",
       "1609                    10    Elite  \n",
       "\n",
       "[794 rows x 13 columns]"
      ]
     },
     "execution_count": 15,
     "metadata": {},
     "output_type": "execute_result"
    }
   ],
   "source": [
    "# Cylinder column datatypes for consistency\n",
    "df_2008['cyl'] = df_2008['cyl'].str.extract('(\\d+)').astype('int64')\n",
    "df_2018.astype({'cyl' : 'int64'})"
   ]
  },
  {
   "cell_type": "code",
   "execution_count": 16,
   "metadata": {},
   "outputs": [
    {
     "name": "stderr",
     "output_type": "stream",
     "text": [
      "/var/folders/yv/tcwpp6310b54wsdrfcqhjbyh0000gn/T/ipykernel_3956/3973320962.py:17: FutureWarning: The frame.append method is deprecated and will be removed from pandas in a future version. Use pandas.concat instead.\n",
      "  new_rows = df1.append(df2)\n",
      "/var/folders/yv/tcwpp6310b54wsdrfcqhjbyh0000gn/T/ipykernel_3956/3973320962.py:21: FutureWarning: The frame.append method is deprecated and will be removed from pandas in a future version. Use pandas.concat instead.\n",
      "  df_2008 = df_2008.append(new_rows, ignore_index= True)\n"
     ]
    }
   ],
   "source": [
    "\"\"\" \n",
    "We can observe that some columns have values that are of the following format \"6/5\",\n",
    "which is the values for two different types of fuel if the car uses a mix of fuels or hybrid.\n",
    "We need to separate this in order for our analysis to work.\n",
    "\"\"\"\n",
    "# 2008 cleaning\n",
    "df_hyb_08 = df_2008[df_2008['fuel'].str.contains('/')]\n",
    "df1 = df_hyb_08.copy()\n",
    "df2 = df_hyb_08.copy()\n",
    "\n",
    "split_columns = ['fuel', 'air_pollution_score', 'city_mpg', 'hwy_mpg', 'cmb_mpg', 'greenhouse_gas_score']\n",
    "\n",
    "for c in split_columns:\n",
    "    df1[c] = df1[c].apply(lambda x: x.split(\"/\")[0])\n",
    "    df2[c] = df2[c].apply(lambda x: x.split(\"/\")[1])\n",
    "\n",
    "new_rows = df1.append(df2)\n",
    "\n",
    "df_2008.drop(df_hyb_08.index, inplace=True)\n",
    "\n",
    "df_2008 = df_2008.append(new_rows, ignore_index= True)"
   ]
  },
  {
   "cell_type": "code",
   "execution_count": 17,
   "metadata": {},
   "outputs": [
    {
     "name": "stderr",
     "output_type": "stream",
     "text": [
      "/var/folders/yv/tcwpp6310b54wsdrfcqhjbyh0000gn/T/ipykernel_3956/2584393945.py:14: FutureWarning: The frame.append method is deprecated and will be removed from pandas in a future version. Use pandas.concat instead.\n",
      "  new_rows = df1.append(df2)\n",
      "/var/folders/yv/tcwpp6310b54wsdrfcqhjbyh0000gn/T/ipykernel_3956/2584393945.py:18: FutureWarning: The frame.append method is deprecated and will be removed from pandas in a future version. Use pandas.concat instead.\n",
      "  df_2018 = df_2018.append(new_rows, ignore_index = True)\n"
     ]
    }
   ],
   "source": [
    "# 2018 cleaning\n",
    "\n",
    "df_hyb_18 = df_2018[df_2018['fuel'].str.contains('/')]\n",
    "\n",
    "df1 = df_hyb_18.copy() \n",
    "df2 = df_hyb_18.copy()\n",
    "\n",
    "split_columns = ['fuel', 'city_mpg', 'hwy_mpg', 'cmb_mpg']\n",
    "\n",
    "for c in split_columns:\n",
    "    df1[c] = df1[c].apply(lambda x: x.split('/')[0])\n",
    "    df2[c] = df2[c].apply(lambda x: x.split('/')[1])\n",
    "\n",
    "new_rows = df1.append(df2)\n",
    "\n",
    "df_2018.drop(df_hyb_18.index, inplace = True)\n",
    "\n",
    "df_2018 = df_2018.append(new_rows, ignore_index = True)"
   ]
  },
  {
   "cell_type": "code",
   "execution_count": 18,
   "metadata": {},
   "outputs": [],
   "source": [
    "# Fix air_pollution_score datatypes\n",
    "df_2008 = df_2008.astype({'air_pollution_score':'float'})\n",
    "df_2018 = df_2018.astype({'air_pollution_score':'float'})"
   ]
  },
  {
   "cell_type": "code",
   "execution_count": 19,
   "metadata": {},
   "outputs": [],
   "source": [
    "df_2008 = df_2008.astype({'city_mpg' : 'float', 'hwy_mpg' : 'float', 'cmb_mpg' : 'float'})\n",
    "df_2018 = df_2018.astype({'city_mpg' : 'float', 'hwy_mpg' : 'float', 'cmb_mpg' : 'float'})"
   ]
  },
  {
   "cell_type": "code",
   "execution_count": 20,
   "metadata": {},
   "outputs": [],
   "source": [
    "df_2008 = df_2008.astype({'greenhouse_gas_score' : 'int64'})\n",
    "df_2018 = df_2018.astype({'cyl' : 'int64'})"
   ]
  },
  {
   "cell_type": "markdown",
   "metadata": {},
   "source": [
    "### Data Visualization"
   ]
  },
  {
   "cell_type": "code",
   "execution_count": 21,
   "metadata": {},
   "outputs": [
    {
     "data": {
      "text/plain": [
       "<matplotlib.legend.Legend at 0x294688040>"
      ]
     },
     "execution_count": 21,
     "metadata": {},
     "output_type": "execute_result"
    },
    {
     "data": {
      "image/png": "[encoded data removed]",
      "text/plain": [
       "<Figure size 432x288 with 1 Axes>"
      ]
     },
     "metadata": {
      "needs_background": "light"
     },
     "output_type": "display_data"
    }
   ],
   "source": [
    "from cProfile import label\n",
    "\n",
    "\n",
    "df_2008['greenhouse_gas_score'].plot(kind= 'hist', label = '2008')\n",
    "df_2018['greenhouse_gas_score'].plot(kind = 'hist', label = '2018')\n",
    "plt.legend()"
   ]
  },
  {
   "cell_type": "code",
   "execution_count": 22,
   "metadata": {},
   "outputs": [
    {
     "data": {
      "text/plain": [
       "<AxesSubplot:ylabel='Frequency'>"
      ]
     },
     "execution_count": 22,
     "metadata": {},
     "output_type": "execute_result"
    },
    {
     "data": {
      "image/png": "[encoded data removed]",
      "text/plain": [
       "<Figure size 432x288 with 1 Axes>"
      ]
     },
     "metadata": {
      "needs_background": "light"
     },
     "output_type": "display_data"
    }
   ],
   "source": [
    "df_2018['cmb_mpg'].plot(kind = 'hist')\n",
    "df_2008['cmb_mpg'].plot(kind = 'hist')"
   ]
  },
  {
   "cell_type": "code",
   "execution_count": 23,
   "metadata": {},
   "outputs": [
    {
     "data": {
      "text/html": [
       "<div>\n",
       "<style scoped>\n",
       "    .dataframe tbody tr th:only-of-type {\n",
       "        vertical-align: middle;\n",
       "    }\n",
       "\n",
       "    .dataframe tbody tr th {\n",
       "        vertical-align: top;\n",
       "    }\n",
       "\n",
       "    .dataframe thead th {\n",
       "        text-align: right;\n",
       "    }\n",
       "</style>\n",
       "<table border=\"1\" class=\"dataframe\">\n",
       "  <thead>\n",
       "    <tr style=\"text-align: right;\">\n",
       "      <th></th>\n",
       "      <th>model</th>\n",
       "      <th>displ</th>\n",
       "      <th>cyl</th>\n",
       "      <th>trans</th>\n",
       "      <th>drive</th>\n",
       "      <th>fuel</th>\n",
       "      <th>veh_class</th>\n",
       "      <th>air_pollution_score</th>\n",
       "      <th>city_mpg</th>\n",
       "      <th>hwy_mpg</th>\n",
       "      <th>cmb_mpg</th>\n",
       "      <th>greenhouse_gas_score</th>\n",
       "      <th>smartway</th>\n",
       "    </tr>\n",
       "  </thead>\n",
       "  <tbody>\n",
       "    <tr>\n",
       "      <th>0</th>\n",
       "      <td>ACURA RDX</td>\n",
       "      <td>3.5</td>\n",
       "      <td>6</td>\n",
       "      <td>SemiAuto-6</td>\n",
       "      <td>2WD</td>\n",
       "      <td>Gasoline</td>\n",
       "      <td>small SUV</td>\n",
       "      <td>3.0</td>\n",
       "      <td>20.0</td>\n",
       "      <td>28.0</td>\n",
       "      <td>23.0</td>\n",
       "      <td>5</td>\n",
       "      <td>No</td>\n",
       "    </tr>\n",
       "    <tr>\n",
       "      <th>1</th>\n",
       "      <td>ACURA RDX</td>\n",
       "      <td>3.5</td>\n",
       "      <td>6</td>\n",
       "      <td>SemiAuto-6</td>\n",
       "      <td>4WD</td>\n",
       "      <td>Gasoline</td>\n",
       "      <td>small SUV</td>\n",
       "      <td>3.0</td>\n",
       "      <td>19.0</td>\n",
       "      <td>27.0</td>\n",
       "      <td>22.0</td>\n",
       "      <td>4</td>\n",
       "      <td>No</td>\n",
       "    </tr>\n",
       "    <tr>\n",
       "      <th>2</th>\n",
       "      <td>ACURA TLX</td>\n",
       "      <td>2.4</td>\n",
       "      <td>4</td>\n",
       "      <td>AMS-8</td>\n",
       "      <td>2WD</td>\n",
       "      <td>Gasoline</td>\n",
       "      <td>small car</td>\n",
       "      <td>3.0</td>\n",
       "      <td>23.0</td>\n",
       "      <td>33.0</td>\n",
       "      <td>27.0</td>\n",
       "      <td>6</td>\n",
       "      <td>No</td>\n",
       "    </tr>\n",
       "    <tr>\n",
       "      <th>3</th>\n",
       "      <td>ACURA TLX</td>\n",
       "      <td>3.5</td>\n",
       "      <td>6</td>\n",
       "      <td>SemiAuto-9</td>\n",
       "      <td>2WD</td>\n",
       "      <td>Gasoline</td>\n",
       "      <td>small car</td>\n",
       "      <td>3.0</td>\n",
       "      <td>20.0</td>\n",
       "      <td>32.0</td>\n",
       "      <td>24.0</td>\n",
       "      <td>5</td>\n",
       "      <td>No</td>\n",
       "    </tr>\n",
       "    <tr>\n",
       "      <th>4</th>\n",
       "      <td>ACURA TLX</td>\n",
       "      <td>3.5</td>\n",
       "      <td>6</td>\n",
       "      <td>SemiAuto-9</td>\n",
       "      <td>4WD</td>\n",
       "      <td>Gasoline</td>\n",
       "      <td>small car</td>\n",
       "      <td>3.0</td>\n",
       "      <td>21.0</td>\n",
       "      <td>30.0</td>\n",
       "      <td>24.0</td>\n",
       "      <td>5</td>\n",
       "      <td>No</td>\n",
       "    </tr>\n",
       "  </tbody>\n",
       "</table>\n",
       "</div>"
      ],
      "text/plain": [
       "       model  displ  cyl       trans drive      fuel  veh_class  \\\n",
       "0  ACURA RDX    3.5    6  SemiAuto-6   2WD  Gasoline  small SUV   \n",
       "1  ACURA RDX    3.5    6  SemiAuto-6   4WD  Gasoline  small SUV   \n",
       "2  ACURA TLX    2.4    4       AMS-8   2WD  Gasoline  small car   \n",
       "3  ACURA TLX    3.5    6  SemiAuto-9   2WD  Gasoline  small car   \n",
       "4  ACURA TLX    3.5    6  SemiAuto-9   4WD  Gasoline  small car   \n",
       "\n",
       "   air_pollution_score  city_mpg  hwy_mpg  cmb_mpg  greenhouse_gas_score  \\\n",
       "0                  3.0      20.0     28.0     23.0                     5   \n",
       "1                  3.0      19.0     27.0     22.0                     4   \n",
       "2                  3.0      23.0     33.0     27.0                     6   \n",
       "3                  3.0      20.0     32.0     24.0                     5   \n",
       "4                  3.0      21.0     30.0     24.0                     5   \n",
       "\n",
       "  smartway  \n",
       "0       No  \n",
       "1       No  \n",
       "2       No  \n",
       "3       No  \n",
       "4       No  "
      ]
     },
     "execution_count": 23,
     "metadata": {},
     "output_type": "execute_result"
    }
   ],
   "source": [
    "df_2018.head()"
   ]
  },
  {
   "cell_type": "code",
   "execution_count": 24,
   "metadata": {},
   "outputs": [
    {
     "data": {
      "text/plain": [
       "Text(0.5, 1.0, 'Displacement VS MPG')"
      ]
     },
     "execution_count": 24,
     "metadata": {},
     "output_type": "execute_result"
    },
    {
     "data": {
      "image/png": "[encoded data removed]",
      "text/plain": [
       "<Figure size 432x288 with 1 Axes>"
      ]
     },
     "metadata": {
      "needs_background": "light"
     },
     "output_type": "display_data"
    }
   ],
   "source": [
    "# Correlation between Displacement and combined Miles Per Gallon\n",
    "plt.scatter(data= df_2018, y = 'displ', x = 'cmb_mpg')\n",
    "plt.xlabel('Displacement')\n",
    "plt.ylabel('Miles Per Gallon')\n",
    "plt.title('Displacement VS MPG')"
   ]
  },
  {
   "cell_type": "code",
   "execution_count": 25,
   "metadata": {},
   "outputs": [
    {
     "data": {
      "text/plain": [
       "Text(0.5, 1.0, 'Greenhousr Gas Score VS. Combined MPG')"
      ]
     },
     "execution_count": 25,
     "metadata": {},
     "output_type": "execute_result"
    },
    {
     "data": {
      "image/png": "[encoded data removed]",
      "text/plain": [
       "<Figure size 432x288 with 1 Axes>"
      ]
     },
     "metadata": {
      "needs_background": "light"
     },
     "output_type": "display_data"
    }
   ],
   "source": [
    "plt.scatter(data= df_2018, x = 'greenhouse_gas_score', y= 'cmb_mpg')\n",
    "plt.xlabel('Greenhouse Gas Score')\n",
    "plt.ylabel('Combined MPG')\n",
    "plt.title('Greenhousr Gas Score VS. Combined MPG')"
   ]
  },
  {
   "cell_type": "code",
   "execution_count": 26,
   "metadata": {},
   "outputs": [
    {
     "data": {
      "text/html": [
       "<div>\n",
       "<style scoped>\n",
       "    .dataframe tbody tr th:only-of-type {\n",
       "        vertical-align: middle;\n",
       "    }\n",
       "\n",
       "    .dataframe tbody tr th {\n",
       "        vertical-align: top;\n",
       "    }\n",
       "\n",
       "    .dataframe thead th {\n",
       "        text-align: right;\n",
       "    }\n",
       "</style>\n",
       "<table border=\"1\" class=\"dataframe\">\n",
       "  <thead>\n",
       "    <tr style=\"text-align: right;\">\n",
       "      <th></th>\n",
       "      <th>model</th>\n",
       "      <th>displ</th>\n",
       "      <th>cyl</th>\n",
       "      <th>trans</th>\n",
       "      <th>drive</th>\n",
       "      <th>fuel</th>\n",
       "      <th>veh_class</th>\n",
       "      <th>air_pollution_score</th>\n",
       "      <th>city_mpg</th>\n",
       "      <th>hwy_mpg</th>\n",
       "      <th>cmb_mpg</th>\n",
       "      <th>greenhouse_gas_score</th>\n",
       "      <th>smartway</th>\n",
       "    </tr>\n",
       "  </thead>\n",
       "  <tbody>\n",
       "    <tr>\n",
       "      <th>0</th>\n",
       "      <td>ACURA MDX</td>\n",
       "      <td>3.7</td>\n",
       "      <td>6</td>\n",
       "      <td>Auto-S5</td>\n",
       "      <td>4WD</td>\n",
       "      <td>Gasoline</td>\n",
       "      <td>SUV</td>\n",
       "      <td>7.0</td>\n",
       "      <td>15.0</td>\n",
       "      <td>20.0</td>\n",
       "      <td>17.0</td>\n",
       "      <td>4</td>\n",
       "      <td>no</td>\n",
       "    </tr>\n",
       "    <tr>\n",
       "      <th>1</th>\n",
       "      <td>ACURA RDX</td>\n",
       "      <td>2.3</td>\n",
       "      <td>4</td>\n",
       "      <td>Auto-S5</td>\n",
       "      <td>4WD</td>\n",
       "      <td>Gasoline</td>\n",
       "      <td>SUV</td>\n",
       "      <td>7.0</td>\n",
       "      <td>17.0</td>\n",
       "      <td>22.0</td>\n",
       "      <td>19.0</td>\n",
       "      <td>5</td>\n",
       "      <td>no</td>\n",
       "    </tr>\n",
       "    <tr>\n",
       "      <th>2</th>\n",
       "      <td>ACURA RL</td>\n",
       "      <td>3.5</td>\n",
       "      <td>6</td>\n",
       "      <td>Auto-S5</td>\n",
       "      <td>4WD</td>\n",
       "      <td>Gasoline</td>\n",
       "      <td>midsize car</td>\n",
       "      <td>7.0</td>\n",
       "      <td>16.0</td>\n",
       "      <td>24.0</td>\n",
       "      <td>19.0</td>\n",
       "      <td>5</td>\n",
       "      <td>no</td>\n",
       "    </tr>\n",
       "    <tr>\n",
       "      <th>3</th>\n",
       "      <td>ACURA TL</td>\n",
       "      <td>3.2</td>\n",
       "      <td>6</td>\n",
       "      <td>Auto-S5</td>\n",
       "      <td>2WD</td>\n",
       "      <td>Gasoline</td>\n",
       "      <td>midsize car</td>\n",
       "      <td>7.0</td>\n",
       "      <td>18.0</td>\n",
       "      <td>26.0</td>\n",
       "      <td>21.0</td>\n",
       "      <td>6</td>\n",
       "      <td>yes</td>\n",
       "    </tr>\n",
       "    <tr>\n",
       "      <th>4</th>\n",
       "      <td>ACURA TL</td>\n",
       "      <td>3.5</td>\n",
       "      <td>6</td>\n",
       "      <td>Auto-S5</td>\n",
       "      <td>2WD</td>\n",
       "      <td>Gasoline</td>\n",
       "      <td>midsize car</td>\n",
       "      <td>7.0</td>\n",
       "      <td>17.0</td>\n",
       "      <td>26.0</td>\n",
       "      <td>20.0</td>\n",
       "      <td>6</td>\n",
       "      <td>yes</td>\n",
       "    </tr>\n",
       "  </tbody>\n",
       "</table>\n",
       "</div>"
      ],
      "text/plain": [
       "       model  displ  cyl    trans drive      fuel    veh_class  \\\n",
       "0  ACURA MDX    3.7    6  Auto-S5   4WD  Gasoline          SUV   \n",
       "1  ACURA RDX    2.3    4  Auto-S5   4WD  Gasoline          SUV   \n",
       "2   ACURA RL    3.5    6  Auto-S5   4WD  Gasoline  midsize car   \n",
       "3   ACURA TL    3.2    6  Auto-S5   2WD  Gasoline  midsize car   \n",
       "4   ACURA TL    3.5    6  Auto-S5   2WD  Gasoline  midsize car   \n",
       "\n",
       "   air_pollution_score  city_mpg  hwy_mpg  cmb_mpg  greenhouse_gas_score  \\\n",
       "0                  7.0      15.0     20.0     17.0                     4   \n",
       "1                  7.0      17.0     22.0     19.0                     5   \n",
       "2                  7.0      16.0     24.0     19.0                     5   \n",
       "3                  7.0      18.0     26.0     21.0                     6   \n",
       "4                  7.0      17.0     26.0     20.0                     6   \n",
       "\n",
       "  smartway  \n",
       "0       no  \n",
       "1       no  \n",
       "2       no  \n",
       "3      yes  \n",
       "4      yes  "
      ]
     },
     "execution_count": 26,
     "metadata": {},
     "output_type": "execute_result"
    }
   ],
   "source": [
    "df_2008.head()"
   ]
  },
  {
   "cell_type": "markdown",
   "metadata": {},
   "source": [
    "### Are more unique models using alternative sources of fuel? By how much?"
   ]
  },
  {
   "cell_type": "code",
   "execution_count": 27,
   "metadata": {},
   "outputs": [
    {
     "name": "stdout",
     "output_type": "stream",
     "text": [
      "The available fuels in 2008 were: \n",
      "Gasoline    984\n",
      "CNG           1\n",
      "ethanol       1\n",
      "gas           1\n",
      "Name: fuel, dtype: int64\n",
      "The available fuels in 2018 were: \n",
      "Gasoline       749\n",
      "Ethanol         26\n",
      "Gas             26\n",
      "Diesel          19\n",
      "Electricity     12\n",
      "Name: fuel, dtype: int64\n"
     ]
    }
   ],
   "source": [
    "print('The available fuels in 2008 were: \\n{}'.format(df_2008.fuel.value_counts()))\n",
    "print('The available fuels in 2018 were: \\n{}'.format(df_2018.fuel.value_counts()))"
   ]
  },
  {
   "cell_type": "markdown",
   "metadata": {},
   "source": [
    "There were 2 alternative source of fuel in 2008 (Ethanol and CNG) and two in 2018 (Ethanol and Electricity). Let's now see how many unique models were available with alternative fuels."
   ]
  },
  {
   "cell_type": "code",
   "execution_count": 28,
   "metadata": {},
   "outputs": [
    {
     "name": "stdout",
     "output_type": "stream",
     "text": [
      "There were 2 models of cars using alternative fuels in 2008.\n",
      "There were 26 models of cars using alternative fuels in 2018.\n",
      "That's a 1200.0 % variation.\n"
     ]
    }
   ],
   "source": [
    "alt_08 = df_2008.query('fuel in [\"ethanol\", \"CNG\"]').model.nunique()\n",
    "alt_18 = df_2018.query('fuel in [\"Ethanol\", \"Electricity\"]').model.nunique()\n",
    "\n",
    "print('There were {} models of cars using alternative fuels in 2008.'.format(alt_08))\n",
    "print('There were {} models of cars using alternative fuels in 2018.'.format(alt_18))\n",
    "print(\"That's a {} % variation.\".format(((alt_18 - alt_08)/ alt_08)*100))\n"
   ]
  },
  {
   "cell_type": "markdown",
   "metadata": {},
   "source": [
    "### How much have vehicle classes improved in fuel economy?"
   ]
  },
  {
   "cell_type": "code",
   "execution_count": 29,
   "metadata": {},
   "outputs": [
    {
     "name": "stdout",
     "output_type": "stream",
     "text": [
      "Average Combined MPG in 2008 for Each Vehicle Class is: \n",
      "veh_class\n",
      "SUV              18.471429\n",
      "large car        18.509091\n",
      "midsize car      21.601449\n",
      "minivan          19.117647\n",
      "pickup           16.277108\n",
      "small car        21.105105\n",
      "station wagon    22.366667\n",
      "van              14.952381\n",
      "Name: cmb_mpg, dtype: float64\n",
      "\n",
      "Average Combined MPG in 2008 for Each Vehicle Class is: \n",
      "veh_class\n",
      "large car          23.409091\n",
      "midsize car        27.884058\n",
      "minivan            20.800000\n",
      "pickup             18.589744\n",
      "small SUV          24.074074\n",
      "small car          25.421053\n",
      "special purpose    18.500000\n",
      "standard SUV       18.197674\n",
      "station wagon      27.529412\n",
      "Name: cmb_mpg, dtype: float64\n",
      "\n"
     ]
    },
    {
     "data": {
      "text/plain": [
       "Text(0, 0.5, 'Imprevement in MPG')"
      ]
     },
     "execution_count": 29,
     "metadata": {},
     "output_type": "execute_result"
    },
    {
     "data": {
      "image/png": "[encoded data removed]",
      "text/plain": [
       "<Figure size 432x288 with 1 Axes>"
      ]
     },
     "metadata": {
      "needs_background": "light"
     },
     "output_type": "display_data"
    }
   ],
   "source": [
    "v_08 = df_2008.groupby('veh_class').cmb_mpg.mean()\n",
    "v_18 = df_2018.groupby('veh_class').cmb_mpg.mean()\n",
    "\n",
    "print('Average Combined MPG in 2008 for Each Vehicle Class is: \\n{}\\n'.format(v_08))\n",
    "print('Average Combined MPG in 2008 for Each Vehicle Class is: \\n{}\\n'.format(v_18))\n",
    "\n",
    "imp = v_18 - v_08\n",
    "imp.dropna(inplace = True)\n",
    "plt.bar(imp.index, imp)\n",
    "plt.title('Improvement in MPG by car category')\n",
    "plt.xlabel('Car Category')\n",
    "plt.ylabel('Imprevement in MPG')\n",
    "\n"
   ]
  },
  {
   "cell_type": "markdown",
   "metadata": {},
   "source": [
    "### What are the characteristics of SmartWay vehicles? Have they changed over time? "
   ]
  },
  {
   "cell_type": "code",
   "execution_count": 30,
   "metadata": {},
   "outputs": [
    {
     "data": {
      "text/html": [
       "<div>\n",
       "<style scoped>\n",
       "    .dataframe tbody tr th:only-of-type {\n",
       "        vertical-align: middle;\n",
       "    }\n",
       "\n",
       "    .dataframe tbody tr th {\n",
       "        vertical-align: top;\n",
       "    }\n",
       "\n",
       "    .dataframe thead th {\n",
       "        text-align: right;\n",
       "    }\n",
       "</style>\n",
       "<table border=\"1\" class=\"dataframe\">\n",
       "  <thead>\n",
       "    <tr style=\"text-align: right;\">\n",
       "      <th></th>\n",
       "      <th>displ</th>\n",
       "      <th>cyl</th>\n",
       "      <th>air_pollution_score</th>\n",
       "      <th>city_mpg</th>\n",
       "      <th>hwy_mpg</th>\n",
       "      <th>cmb_mpg</th>\n",
       "      <th>greenhouse_gas_score</th>\n",
       "    </tr>\n",
       "    <tr>\n",
       "      <th>smartway</th>\n",
       "      <th></th>\n",
       "      <th></th>\n",
       "      <th></th>\n",
       "      <th></th>\n",
       "      <th></th>\n",
       "      <th></th>\n",
       "      <th></th>\n",
       "    </tr>\n",
       "  </thead>\n",
       "  <tbody>\n",
       "    <tr>\n",
       "      <th>no</th>\n",
       "      <td>4.056837</td>\n",
       "      <td>6.771005</td>\n",
       "      <td>6.293245</td>\n",
       "      <td>15.133443</td>\n",
       "      <td>21.299835</td>\n",
       "      <td>17.316310</td>\n",
       "      <td>4.149918</td>\n",
       "    </tr>\n",
       "    <tr>\n",
       "      <th>yes</th>\n",
       "      <td>2.602895</td>\n",
       "      <td>4.826316</td>\n",
       "      <td>7.365789</td>\n",
       "      <td>20.984211</td>\n",
       "      <td>28.413158</td>\n",
       "      <td>23.736842</td>\n",
       "      <td>6.868421</td>\n",
       "    </tr>\n",
       "  </tbody>\n",
       "</table>\n",
       "</div>"
      ],
      "text/plain": [
       "             displ       cyl  air_pollution_score   city_mpg    hwy_mpg  \\\n",
       "smartway                                                                  \n",
       "no        4.056837  6.771005             6.293245  15.133443  21.299835   \n",
       "yes       2.602895  4.826316             7.365789  20.984211  28.413158   \n",
       "\n",
       "            cmb_mpg  greenhouse_gas_score  \n",
       "smartway                                   \n",
       "no        17.316310              4.149918  \n",
       "yes       23.736842              6.868421  "
      ]
     },
     "execution_count": 30,
     "metadata": {},
     "output_type": "execute_result"
    }
   ],
   "source": [
    "sm_08 = df_2008.groupby('smartway').mean()\n",
    "sm_08"
   ]
  },
  {
   "cell_type": "code",
   "execution_count": 31,
   "metadata": {},
   "outputs": [
    {
     "data": {
      "text/html": [
       "<div>\n",
       "<style scoped>\n",
       "    .dataframe tbody tr th:only-of-type {\n",
       "        vertical-align: middle;\n",
       "    }\n",
       "\n",
       "    .dataframe tbody tr th {\n",
       "        vertical-align: top;\n",
       "    }\n",
       "\n",
       "    .dataframe thead th {\n",
       "        text-align: right;\n",
       "    }\n",
       "</style>\n",
       "<table border=\"1\" class=\"dataframe\">\n",
       "  <thead>\n",
       "    <tr style=\"text-align: right;\">\n",
       "      <th></th>\n",
       "      <th>displ</th>\n",
       "      <th>cyl</th>\n",
       "      <th>air_pollution_score</th>\n",
       "      <th>city_mpg</th>\n",
       "      <th>hwy_mpg</th>\n",
       "      <th>cmb_mpg</th>\n",
       "      <th>greenhouse_gas_score</th>\n",
       "    </tr>\n",
       "    <tr>\n",
       "      <th>smartway</th>\n",
       "      <th></th>\n",
       "      <th></th>\n",
       "      <th></th>\n",
       "      <th></th>\n",
       "      <th></th>\n",
       "      <th></th>\n",
       "      <th></th>\n",
       "    </tr>\n",
       "  </thead>\n",
       "  <tbody>\n",
       "    <tr>\n",
       "      <th>Elite</th>\n",
       "      <td>1.970588</td>\n",
       "      <td>4.000000</td>\n",
       "      <td>7.000000</td>\n",
       "      <td>53.235294</td>\n",
       "      <td>53.117647</td>\n",
       "      <td>53.000000</td>\n",
       "      <td>10.000000</td>\n",
       "    </tr>\n",
       "    <tr>\n",
       "      <th>No</th>\n",
       "      <td>3.270304</td>\n",
       "      <td>5.720994</td>\n",
       "      <td>3.798343</td>\n",
       "      <td>19.325967</td>\n",
       "      <td>26.708564</td>\n",
       "      <td>22.041436</td>\n",
       "      <td>4.276243</td>\n",
       "    </tr>\n",
       "    <tr>\n",
       "      <th>Yes</th>\n",
       "      <td>1.753846</td>\n",
       "      <td>3.923077</td>\n",
       "      <td>4.879121</td>\n",
       "      <td>31.483516</td>\n",
       "      <td>39.296703</td>\n",
       "      <td>34.439560</td>\n",
       "      <td>7.538462</td>\n",
       "    </tr>\n",
       "  </tbody>\n",
       "</table>\n",
       "</div>"
      ],
      "text/plain": [
       "             displ       cyl  air_pollution_score   city_mpg    hwy_mpg  \\\n",
       "smartway                                                                  \n",
       "Elite     1.970588  4.000000             7.000000  53.235294  53.117647   \n",
       "No        3.270304  5.720994             3.798343  19.325967  26.708564   \n",
       "Yes       1.753846  3.923077             4.879121  31.483516  39.296703   \n",
       "\n",
       "            cmb_mpg  greenhouse_gas_score  \n",
       "smartway                                   \n",
       "Elite     53.000000             10.000000  \n",
       "No        22.041436              4.276243  \n",
       "Yes       34.439560              7.538462  "
      ]
     },
     "execution_count": 31,
     "metadata": {},
     "output_type": "execute_result"
    }
   ],
   "source": [
    "sm_18 = df_2018.groupby('smartway').mean()\n",
    "sm_18"
   ]
  },
  {
   "cell_type": "markdown",
   "metadata": {},
   "source": [
    "### What features are associated with better fuel economy?"
   ]
  },
  {
   "cell_type": "code",
   "execution_count": 32,
   "metadata": {},
   "outputs": [
    {
     "name": "stdout",
     "output_type": "stream",
     "text": [
      "This are the caracteristics of efficient cars in 2008: \n",
      "            displ         cyl  air_pollution_score    city_mpg     hwy_mpg  \\\n",
      "count  519.000000  519.000000           519.000000  519.000000  519.000000   \n",
      "mean     2.667823    4.890173             6.998073   20.317919   27.603083   \n",
      "std      0.665551    1.034856             1.159565    3.198257    3.051120   \n",
      "min      1.300000    4.000000             4.000000   17.000000   20.000000   \n",
      "25%      2.300000    4.000000             6.000000   18.000000   25.000000   \n",
      "50%      2.500000    4.000000             7.000000   20.000000   27.000000   \n",
      "75%      3.000000    6.000000             7.000000   21.000000   29.000000   \n",
      "max      6.000000    8.000000             9.500000   48.000000   45.000000   \n",
      "\n",
      "          cmb_mpg  greenhouse_gas_score  \n",
      "count  519.000000            519.000000  \n",
      "mean    22.992293              6.639692  \n",
      "std      2.926371              0.804935  \n",
      "min     20.000000              6.000000  \n",
      "25%     21.000000              6.000000  \n",
      "50%     22.000000              6.000000  \n",
      "75%     24.000000              7.000000  \n",
      "max     46.000000             10.000000  \n",
      "\n",
      "This are the caracteristics of efficient cars in 2018: \n",
      "            displ         cyl  air_pollution_score    city_mpg     hwy_mpg  \\\n",
      "count  328.000000  328.000000           328.000000  328.000000  328.000000   \n",
      "mean     1.964329    4.021341             4.856707   27.472561   35.304878   \n",
      "std      0.398593    0.465477             1.860802   11.033692    9.024857   \n",
      "min      1.200000    3.000000             1.000000   21.000000   27.000000   \n",
      "25%      1.600000    4.000000             3.000000   23.000000   31.000000   \n",
      "50%      2.000000    4.000000             5.000000   25.000000   33.000000   \n",
      "75%      2.000000    4.000000             7.000000   28.000000   36.000000   \n",
      "max      3.500000    6.000000             7.000000  113.000000   99.000000   \n",
      "\n",
      "          cmb_mpg  greenhouse_gas_score  \n",
      "count  328.000000            328.000000  \n",
      "mean    30.411585              6.329268  \n",
      "std     10.081539              1.410358  \n",
      "min     25.000000              4.000000  \n",
      "25%     26.000000              5.000000  \n",
      "50%     28.000000              6.000000  \n",
      "75%     31.000000              7.000000  \n",
      "max    106.000000             10.000000  \n",
      "\n"
     ]
    }
   ],
   "source": [
    "best_08 = df_2008.query('cmb_mpg > cmb_mpg.mean()')\n",
    "best_18 = df_2018.query('cmb_mpg > cmb_mpg.mean()')\n",
    "\n",
    "print('This are the caracteristics of efficient cars in 2008: \\n{}\\n'.format(best_08.describe()))\n",
    "print('This are the caracteristics of efficient cars in 2018: \\n{}\\n'.format(best_18.describe()))"
   ]
  },
  {
   "cell_type": "code",
   "execution_count": 33,
   "metadata": {},
   "outputs": [],
   "source": [
    "df_2008.to_csv('2008_clean.csv')\n",
    "df_2018.to_csv('2018_clean.csv')"
   ]
  },
  {
   "cell_type": "code",
   "execution_count": null,
   "metadata": {},
   "outputs": [],
   "source": []
  }
 ],
 "metadata": {
  "kernelspec": {
   "display_name": "Python 3.10.4 64-bit",
   "language": "python",
   "name": "python3"
  },
  "language_info": {
   "codemirror_mode": {
    "name": "ipython",
    "version": 3
   },
   "file_extension": ".py",
   "mimetype": "text/x-python",
   "name": "python",
   "nbconvert_exporter": "python",
   "pygments_lexer": "ipython3",
   "version": "3.10.4"
  },
  "orig_nbformat": 4,
  "vscode": {
   "interpreter": {
    "hash": "aee8b7b246df8f9039afb4144a1f6fd8d2ca17a180786b69acc140d282b71a49"
   }
  }
 },
 "nbformat": 4,
 "nbformat_minor": 2
}
